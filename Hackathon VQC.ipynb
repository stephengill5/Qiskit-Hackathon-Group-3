{
 "cells": [
  {
   "cell_type": "markdown",
   "metadata": {},
   "source": [
    "# Variational Quantum Classifier\n",
    "Team 3 final VQC work"
   ]
  },
  {
   "cell_type": "code",
   "execution_count": 157,
   "metadata": {},
   "outputs": [],
   "source": [
    "#import packages needed\n",
    "import pandas as pd\n",
    "import numpy as np\n",
    "\n",
    "from qiskit import BasicAer\n",
    "from qiskit.aqua import QuantumInstance, aqua_globals\n",
    "from qiskit.aqua.algorithms import VQC\n",
    "from qiskit.aqua.components.optimizers import SPSA\n",
    "from qiskit.circuit.library import TwoLocal, ZZFeatureMap\n",
    "from qiskit.aqua.utils import split_dataset_to_data_and_labels, map_label_to_class_name\n",
    "\n",
    "#set seed for entire notebook\n",
    "seed=2000\n",
    "aqua_globals.random_seed = seed"
   ]
  },
  {
   "cell_type": "code",
   "execution_count": 101,
   "metadata": {},
   "outputs": [],
   "source": [
    "#load the data and take a sample of each class using a stratified approach\n",
    "h1=pd.read_csv(\"harass1.csv\")\n",
    "h1 = h1.sample(100)\n",
    "h2=pd.read_csv(\"harass2.csv\")\n",
    "h2 = h2.sample(300)\n",
    "h3=pd.read_csv(\"harass3.csv\")\n",
    "h3 = h3.sample(500)\n",
    "\n",
    "#split into training and test sets using a stratified approach on the response variable\n",
    "msk = np.random.rand(len(h1)) < 0.8\n",
    "train1 = h1[msk]\n",
    "test1 = h1[~msk]\n",
    "train1=np.array(train1.values.tolist())\n",
    "test1=np.array(test1.values.tolist())\n",
    "\n",
    "msk = np.random.rand(len(h2)) < 0.8\n",
    "train2 = h2[msk]\n",
    "test2 = h2[~msk]\n",
    "train2=np.array(train2.values.tolist())\n",
    "test2=np.array(test2.values.tolist())\n",
    "\n",
    "msk = np.random.rand(len(h3)) < 0.8\n",
    "train3 = h3[msk]\n",
    "test3 = h3[~msk]\n",
    "train3=np.array(train3.values.tolist())\n",
    "test3=np.array(test3.values.tolist())\n",
    "\n",
    "#compile training and testing sets\n",
    "data_dict_train={\"1\":train1,\"2\":train2,\"3\":train3}\n",
    "data_dict_test={\"1\":test1,\"2\":test2,\"3\":test3}"
   ]
  },
  {
   "cell_type": "code",
   "execution_count": 102,
   "metadata": {},
   "outputs": [
    {
     "data": {
      "text/plain": [
       "{'1': array([[3, 5, 3, 1, 1],\n",
       "        [0, 5, 4, 1, 1],\n",
       "        [0, 5, 3, 2, 2],\n",
       "        [1, 4, 2, 2, 2],\n",
       "        [0, 5, 4, 1, 1],\n",
       "        [0, 3, 1, 1, 1],\n",
       "        [2, 5, 3, 1, 1],\n",
       "        [0, 3, 2, 1, 1],\n",
       "        [0, 2, 3, 1, 1],\n",
       "        [0, 3, 4, 1, 1],\n",
       "        [0, 5, 5, 1, 2],\n",
       "        [0, 1, 4, 1, 1],\n",
       "        [1, 5, 3, 1, 1],\n",
       "        [1, 3, 2, 2, 2],\n",
       "        [0, 3, 4, 1, 1],\n",
       "        [0, 5, 2, 1, 1],\n",
       "        [0, 1, 3, 1, 1],\n",
       "        [0, 5, 3, 1, 1],\n",
       "        [2, 3, 2, 1, 1],\n",
       "        [0, 4, 2, 1, 1],\n",
       "        [0, 2, 2, 1, 2],\n",
       "        [0, 5, 4, 1, 1],\n",
       "        [2, 3, 4, 2, 2],\n",
       "        [0, 5, 2, 1, 1],\n",
       "        [0, 5, 4, 1, 1],\n",
       "        [2, 5, 4, 1, 1],\n",
       "        [0, 4, 3, 1, 1],\n",
       "        [0, 4, 3, 1, 1],\n",
       "        [4, 3, 3, 1, 1],\n",
       "        [0, 4, 3, 2, 2],\n",
       "        [1, 1, 3, 2, 2],\n",
       "        [1, 2, 1, 1, 1],\n",
       "        [2, 5, 4, 1, 1],\n",
       "        [1, 2, 3, 1, 1],\n",
       "        [2, 5, 3, 1, 1],\n",
       "        [0, 5, 3, 1, 1],\n",
       "        [1, 3, 3, 1, 1],\n",
       "        [0, 2, 3, 1, 1],\n",
       "        [3, 2, 3, 2, 1],\n",
       "        [0, 5, 5, 3, 3],\n",
       "        [0, 3, 2, 2, 2],\n",
       "        [0, 5, 4, 1, 2],\n",
       "        [0, 3, 3, 1, 2],\n",
       "        [1, 4, 5, 1, 1],\n",
       "        [0, 5, 3, 1, 1],\n",
       "        [1, 3, 3, 1, 1],\n",
       "        [2, 3, 3, 2, 2],\n",
       "        [0, 1, 3, 2, 2],\n",
       "        [2, 3, 3, 1, 1],\n",
       "        [4, 5, 3, 3, 3],\n",
       "        [0, 4, 5, 3, 1],\n",
       "        [0, 2, 3, 1, 2],\n",
       "        [2, 3, 5, 1, 1],\n",
       "        [2, 5, 3, 2, 2],\n",
       "        [0, 4, 3, 3, 3],\n",
       "        [0, 2, 2, 1, 1],\n",
       "        [0, 5, 2, 2, 2],\n",
       "        [0, 3, 4, 1, 1],\n",
       "        [0, 2, 3, 1, 1],\n",
       "        [0, 5, 5, 1, 1],\n",
       "        [2, 1, 1, 2, 1],\n",
       "        [0, 5, 5, 1, 1],\n",
       "        [0, 4, 3, 1, 1],\n",
       "        [2, 3, 1, 3, 3],\n",
       "        [2, 3, 3, 1, 1],\n",
       "        [2, 4, 2, 1, 1],\n",
       "        [1, 2, 2, 2, 3],\n",
       "        [0, 5, 5, 1, 1],\n",
       "        [0, 5, 5, 1, 1],\n",
       "        [0, 3, 9, 1, 1],\n",
       "        [0, 3, 4, 1, 1],\n",
       "        [1, 5, 2, 2, 2],\n",
       "        [0, 5, 3, 1, 2],\n",
       "        [0, 5, 5, 2, 1],\n",
       "        [0, 2, 4, 1, 1],\n",
       "        [2, 2, 4, 1, 1],\n",
       "        [0, 4, 4, 1, 2],\n",
       "        [0, 1, 5, 1, 1],\n",
       "        [0, 3, 2, 1, 1]]),\n",
       " '2': array([[0, 5, 3, 1, 2],\n",
       "        [0, 1, 3, 1, 2],\n",
       "        [0, 5, 3, 2, 3],\n",
       "        ...,\n",
       "        [0, 3, 2, 2, 2],\n",
       "        [1, 3, 3, 3, 3],\n",
       "        [0, 3, 5, 1, 1]]),\n",
       " '3': array([[1, 2, 3, 2, 2],\n",
       "        [2, 2, 3, 1, 2],\n",
       "        [0, 3, 1, 2, 3],\n",
       "        ...,\n",
       "        [2, 2, 2, 2, 2],\n",
       "        [3, 2, 3, 1, 2],\n",
       "        [0, 2, 9, 2, 1]])}"
      ]
     },
     "execution_count": 102,
     "metadata": {},
     "output_type": "execute_result"
    }
   ],
   "source": [
    "#see data structure of training set as a sanity check\n",
    "data_dict_train"
   ]
  },
  {
   "cell_type": "code",
   "execution_count": 103,
   "metadata": {},
   "outputs": [
    {
     "name": "stdout",
     "output_type": "stream",
     "text": [
      "Testing success ratio: 0.4226190476190476\n"
     ]
    }
   ],
   "source": [
    "#run the VQC on the Quantum simulator \n",
    "feature_dim = 4\n",
    "\n",
    "feature_map = ZZFeatureMap(feature_dimension=feature_dim, reps=2)\n",
    "optimizer = SPSA(maxiter=40, c0=4.0, skip_calibration=True)\n",
    "var_form = TwoLocal(feature_dim, ['ry', 'rz'], 'cz', reps=3)\n",
    "vqc = VQC(optimizer, feature_map, var_form, data_dict_train, data_dict_test)\n",
    "\n",
    "backend = BasicAer.get_backend('qasm_simulator')\n",
    "quantum_instance = QuantumInstance(backend, shots=1024, seed_simulator=seed, seed_transpiler=seed)\n",
    "\n",
    "result = vqc.run(quantum_instance)\n",
    "\n",
    "#print testing accuracy\n",
    "print(f'Testing success ratio: {result[\"testing_accuracy\"]}')"
   ]
  },
  {
   "cell_type": "code",
   "execution_count": 147,
   "metadata": {},
   "outputs": [],
   "source": [
    "#make probabilities and class predictions for each observation in the test set for exploration\n",
    "probs1, labels1 = vqc.predict(data_dict_test['1'])\n",
    "probs2, labels2 = vqc.predict(data_dict_test['2'])\n",
    "probs3, labels3 = vqc.predict(data_dict_test['3'])"
   ]
  },
  {
   "cell_type": "code",
   "execution_count": 149,
   "metadata": {},
   "outputs": [
    {
     "data": {
      "text/plain": [
       "0.4226190476190476"
      ]
     },
     "execution_count": 149,
     "metadata": {},
     "output_type": "execute_result"
    }
   ],
   "source": [
    "#verify testing accuracy manually\n",
    "correct = np.unique(labels1, return_counts=True)[1][0]+np.unique(labels2, return_counts=True)[1][1]+np.unique(labels3, return_counts=True)[1][2]\n",
    "length = len(labels1)+len(labels2)+len(labels3)\n",
    "correct/length"
   ]
  },
  {
   "cell_type": "code",
   "execution_count": 156,
   "metadata": {},
   "outputs": [
    {
     "name": "stdout",
     "output_type": "stream",
     "text": [
      "     ┌──────────┐┌──────────┐            ┌──────────┐┌───────────┐             »\n",
      "q_0: ┤ RY(θ[0]) ├┤ RZ(θ[4]) ├─■──■─────■─┤ RY(θ[8]) ├┤ RZ(θ[12]) ├─────────────»\n",
      "     ├──────────┤├──────────┤ │  │     │ └──────────┘└┬──────────┤┌───────────┐»\n",
      "q_1: ┤ RY(θ[1]) ├┤ RZ(θ[5]) ├─■──┼──■──┼──────■───────┤ RY(θ[9]) ├┤ RZ(θ[13]) ├»\n",
      "     ├──────────┤├──────────┤    │  │  │      │       └──────────┘├───────────┤»\n",
      "q_2: ┤ RY(θ[2]) ├┤ RZ(θ[6]) ├────■──■──┼──────┼────────────■──────┤ RY(θ[10]) ├»\n",
      "     ├──────────┤├──────────┤          │      │            │      ├───────────┤»\n",
      "q_3: ┤ RY(θ[3]) ├┤ RZ(θ[7]) ├──────────■──────■────────────■──────┤ RY(θ[11]) ├»\n",
      "     └──────────┘└──────────┘                                     └───────────┘»\n",
      "«                           ┌───────────┐┌───────────┐             »\n",
      "«q_0: ──────■───────■─────■─┤ RY(θ[16]) ├┤ RZ(θ[20]) ├─────────────»\n",
      "«           │       │     │ └───────────┘├───────────┤┌───────────┐»\n",
      "«q_1: ──────■───────┼──■──┼───────■──────┤ RY(θ[17]) ├┤ RZ(θ[21]) ├»\n",
      "«     ┌───────────┐ │  │  │       │      └───────────┘├───────────┤»\n",
      "«q_2: ┤ RZ(θ[14]) ├─■──■──┼───────┼────────────■──────┤ RY(θ[18]) ├»\n",
      "«     ├───────────┤       │       │            │      ├───────────┤»\n",
      "«q_3: ┤ RZ(θ[15]) ├───────■───────■────────────■──────┤ RY(θ[19]) ├»\n",
      "«     └───────────┘                                   └───────────┘»\n",
      "«                           ┌───────────┐┌───────────┐             »\n",
      "«q_0: ──────■───────■─────■─┤ RY(θ[24]) ├┤ RZ(θ[28]) ├─────────────»\n",
      "«           │       │     │ └───────────┘├───────────┤┌───────────┐»\n",
      "«q_1: ──────■───────┼──■──┼───────■──────┤ RY(θ[25]) ├┤ RZ(θ[29]) ├»\n",
      "«     ┌───────────┐ │  │  │       │      └───────────┘├───────────┤»\n",
      "«q_2: ┤ RZ(θ[22]) ├─■──■──┼───────┼────────────■──────┤ RY(θ[26]) ├»\n",
      "«     ├───────────┤       │       │            │      ├───────────┤»\n",
      "«q_3: ┤ RZ(θ[23]) ├───────■───────■────────────■──────┤ RY(θ[27]) ├»\n",
      "«     └───────────┘                                   └───────────┘»\n",
      "«                  \n",
      "«q_0: ─────────────\n",
      "«                  \n",
      "«q_1: ─────────────\n",
      "«     ┌───────────┐\n",
      "«q_2: ┤ RZ(θ[30]) ├\n",
      "«     ├───────────┤\n",
      "«q_3: ┤ RZ(θ[31]) ├\n",
      "«     └───────────┘\n"
     ]
    }
   ],
   "source": [
    "#qubit diagram for reference\n",
    "print(var_form)"
   ]
  }
 ],
 "metadata": {
  "kernelspec": {
   "display_name": "Python 3",
   "language": "python",
   "name": "python3"
  },
  "language_info": {
   "codemirror_mode": {
    "name": "ipython",
    "version": 3
   },
   "file_extension": ".py",
   "mimetype": "text/x-python",
   "name": "python",
   "nbconvert_exporter": "python",
   "pygments_lexer": "ipython3",
   "version": "3.8.3"
  }
 },
 "nbformat": 4,
 "nbformat_minor": 4
}
