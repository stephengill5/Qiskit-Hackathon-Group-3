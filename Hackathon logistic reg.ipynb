{
 "cells": [
  {
   "cell_type": "markdown",
   "metadata": {},
   "source": [
    "## Harassment in the workplace -- Logistic regression to predict responses\n",
    "#### Import packages"
   ]
  },
  {
   "cell_type": "code",
   "execution_count": 138,
   "metadata": {},
   "outputs": [],
   "source": [
    "import pandas as pd\n",
    "import numpy as np\n",
    "from sklearn.decomposition import PCA\n",
    "from sklearn.preprocessing import StandardScaler\n",
    "from sklearn.linear_model import LogisticRegression"
   ]
  },
  {
   "cell_type": "markdown",
   "metadata": {},
   "source": [
    "#### Load in data"
   ]
  },
  {
   "cell_type": "code",
   "execution_count": 139,
   "metadata": {},
   "outputs": [
    {
     "data": {
      "text/html": [
       "<div>\n",
       "<style scoped>\n",
       "    .dataframe tbody tr th:only-of-type {\n",
       "        vertical-align: middle;\n",
       "    }\n",
       "\n",
       "    .dataframe tbody tr th {\n",
       "        vertical-align: top;\n",
       "    }\n",
       "\n",
       "    .dataframe thead th {\n",
       "        text-align: right;\n",
       "    }\n",
       "</style>\n",
       "<table border=\"1\" class=\"dataframe\">\n",
       "  <thead>\n",
       "    <tr style=\"text-align: right;\">\n",
       "      <th></th>\n",
       "      <th>Unnamed: 0</th>\n",
       "      <th>CaseID</th>\n",
       "      <th>weight</th>\n",
       "      <th>WORK_1</th>\n",
       "      <th>WORK_2</th>\n",
       "      <th>WORK_3</th>\n",
       "      <th>WORK_4</th>\n",
       "      <th>EMPLOYED</th>\n",
       "      <th>FULLPART</th>\n",
       "      <th>SELFEMPLOYED</th>\n",
       "      <th>...</th>\n",
       "      <th>SCICOUR2_t</th>\n",
       "      <th>MATHCOUR2_t</th>\n",
       "      <th>PPT017_t</th>\n",
       "      <th>PPT18OV_t</th>\n",
       "      <th>PPHHSIZE_t</th>\n",
       "      <th>EDUC4CAT</th>\n",
       "      <th>RACE_col</th>\n",
       "      <th>RECONA_col</th>\n",
       "      <th>RECONB_col</th>\n",
       "      <th>RECONC_col</th>\n",
       "    </tr>\n",
       "  </thead>\n",
       "  <tbody>\n",
       "    <tr>\n",
       "      <th>0</th>\n",
       "      <td>1</td>\n",
       "      <td>3</td>\n",
       "      <td>0.0707</td>\n",
       "      <td>1</td>\n",
       "      <td>2</td>\n",
       "      <td>2</td>\n",
       "      <td>2</td>\n",
       "      <td>1</td>\n",
       "      <td>1</td>\n",
       "      <td>2</td>\n",
       "      <td>...</td>\n",
       "      <td>1.0</td>\n",
       "      <td>1.0</td>\n",
       "      <td>0</td>\n",
       "      <td>1</td>\n",
       "      <td>1</td>\n",
       "      <td>3</td>\n",
       "      <td>1</td>\n",
       "      <td>1.0</td>\n",
       "      <td>NaN</td>\n",
       "      <td>NaN</td>\n",
       "    </tr>\n",
       "    <tr>\n",
       "      <th>1</th>\n",
       "      <td>2</td>\n",
       "      <td>4</td>\n",
       "      <td>0.3938</td>\n",
       "      <td>1</td>\n",
       "      <td>2</td>\n",
       "      <td>2</td>\n",
       "      <td>2</td>\n",
       "      <td>1</td>\n",
       "      <td>1</td>\n",
       "      <td>2</td>\n",
       "      <td>...</td>\n",
       "      <td>12.0</td>\n",
       "      <td>8.0</td>\n",
       "      <td>2</td>\n",
       "      <td>2</td>\n",
       "      <td>4</td>\n",
       "      <td>4</td>\n",
       "      <td>1</td>\n",
       "      <td>NaN</td>\n",
       "      <td>NaN</td>\n",
       "      <td>2.0</td>\n",
       "    </tr>\n",
       "    <tr>\n",
       "      <th>2</th>\n",
       "      <td>3</td>\n",
       "      <td>5</td>\n",
       "      <td>1.7321</td>\n",
       "      <td>2</td>\n",
       "      <td>1</td>\n",
       "      <td>2</td>\n",
       "      <td>2</td>\n",
       "      <td>1</td>\n",
       "      <td>2</td>\n",
       "      <td>2</td>\n",
       "      <td>...</td>\n",
       "      <td>98.0</td>\n",
       "      <td>98.0</td>\n",
       "      <td>0</td>\n",
       "      <td>2</td>\n",
       "      <td>2</td>\n",
       "      <td>3</td>\n",
       "      <td>3</td>\n",
       "      <td>NaN</td>\n",
       "      <td>NaN</td>\n",
       "      <td>NaN</td>\n",
       "    </tr>\n",
       "    <tr>\n",
       "      <th>3</th>\n",
       "      <td>4</td>\n",
       "      <td>6</td>\n",
       "      <td>0.1478</td>\n",
       "      <td>1</td>\n",
       "      <td>2</td>\n",
       "      <td>2</td>\n",
       "      <td>1</td>\n",
       "      <td>1</td>\n",
       "      <td>1</td>\n",
       "      <td>1</td>\n",
       "      <td>...</td>\n",
       "      <td>15.0</td>\n",
       "      <td>6.0</td>\n",
       "      <td>0</td>\n",
       "      <td>2</td>\n",
       "      <td>2</td>\n",
       "      <td>4</td>\n",
       "      <td>1</td>\n",
       "      <td>NaN</td>\n",
       "      <td>NaN</td>\n",
       "      <td>NaN</td>\n",
       "    </tr>\n",
       "    <tr>\n",
       "      <th>4</th>\n",
       "      <td>5</td>\n",
       "      <td>7</td>\n",
       "      <td>1.5842</td>\n",
       "      <td>2</td>\n",
       "      <td>2</td>\n",
       "      <td>2</td>\n",
       "      <td>1</td>\n",
       "      <td>1</td>\n",
       "      <td>2</td>\n",
       "      <td>1</td>\n",
       "      <td>...</td>\n",
       "      <td>3.0</td>\n",
       "      <td>3.0</td>\n",
       "      <td>0</td>\n",
       "      <td>2</td>\n",
       "      <td>2</td>\n",
       "      <td>4</td>\n",
       "      <td>3</td>\n",
       "      <td>NaN</td>\n",
       "      <td>NaN</td>\n",
       "      <td>NaN</td>\n",
       "    </tr>\n",
       "  </tbody>\n",
       "</table>\n",
       "<p>5 rows × 221 columns</p>\n",
       "</div>"
      ],
      "text/plain": [
       "   Unnamed: 0  CaseID  weight  WORK_1  WORK_2  WORK_3  WORK_4  EMPLOYED  \\\n",
       "0           1       3  0.0707       1       2       2       2         1   \n",
       "1           2       4  0.3938       1       2       2       2         1   \n",
       "2           3       5  1.7321       2       1       2       2         1   \n",
       "3           4       6  0.1478       1       2       2       1         1   \n",
       "4           5       7  1.5842       2       2       2       1         1   \n",
       "\n",
       "   FULLPART  SELFEMPLOYED  ...  SCICOUR2_t  MATHCOUR2_t  PPT017_t  PPT18OV_t  \\\n",
       "0         1             2  ...         1.0          1.0         0          1   \n",
       "1         1             2  ...        12.0          8.0         2          2   \n",
       "2         2             2  ...        98.0         98.0         0          2   \n",
       "3         1             1  ...        15.0          6.0         0          2   \n",
       "4         2             1  ...         3.0          3.0         0          2   \n",
       "\n",
       "   PPHHSIZE_t  EDUC4CAT  RACE_col  RECONA_col  RECONB_col  RECONC_col  \n",
       "0           1         3         1         1.0         NaN         NaN  \n",
       "1           4         4         1         NaN         NaN         2.0  \n",
       "2           2         3         3         NaN         NaN         NaN  \n",
       "3           2         4         1         NaN         NaN         NaN  \n",
       "4           2         4         3         NaN         NaN         NaN  \n",
       "\n",
       "[5 rows x 221 columns]"
      ]
     },
     "execution_count": 139,
     "metadata": {},
     "output_type": "execute_result"
    }
   ],
   "source": [
    "df = pd.read_csv(\"fulldata.csv\")\n",
    "df.head()"
   ]
  },
  {
   "cell_type": "markdown",
   "metadata": {},
   "source": [
    "#### Get subset of data frame with relevant predictors, response, and non-missing rows"
   ]
  },
  {
   "cell_type": "code",
   "execution_count": 140,
   "metadata": {},
   "outputs": [],
   "source": [
    "sub=df[[\"HARASS2\",\"PPT017_t\",\"HH_INCOME_col\",\"IDEO\",\"TECH3\",\"TECH6\"]]\n",
    "sub=sub.dropna()"
   ]
  },
  {
   "cell_type": "markdown",
   "metadata": {},
   "source": [
    "#### Find testing accuracy of nominal logistic model, run through 50 iterations"
   ]
  },
  {
   "cell_type": "code",
   "execution_count": 134,
   "metadata": {},
   "outputs": [],
   "source": [
    "accs=[]\n",
    "for i in range(0,50):\n",
    "\n",
    "    msk = np.random.rand(len(sub)) < 0.8\n",
    "    train = sub[msk]\n",
    "    test = sub[~msk]\n",
    "\n",
    "    X1=train.drop(\"HARASS2\",axis=1).values\n",
    "    X1=StandardScaler().fit_transform(X1)\n",
    "    y1=np.array(train[[\"HARASS2\"]].values)\n",
    "\n",
    "    X2=test.drop(\"HARASS2\",axis=1).values\n",
    "    X2=StandardScaler().fit_transform(X2)\n",
    "    y2=np.array(test[[\"HARASS2\"]].values)\n",
    "\n",
    "    clf=LogisticRegression(random_state=100).fit(X1,y1.ravel())\n",
    "    accs.append(clf.score(X2,y2))"
   ]
  },
  {
   "cell_type": "markdown",
   "metadata": {},
   "source": [
    "#### Misclassification rate"
   ]
  },
  {
   "cell_type": "code",
   "execution_count": 137,
   "metadata": {},
   "outputs": [
    {
     "data": {
      "text/plain": [
       "0.4659730851154983"
      ]
     },
     "execution_count": 137,
     "metadata": {},
     "output_type": "execute_result"
    }
   ],
   "source": [
    "mcr=1-np.array(accs).mean()\n",
    "mcr"
   ]
  }
 ],
 "metadata": {
  "kernelspec": {
   "display_name": "Python 3",
   "language": "python",
   "name": "python3"
  },
  "language_info": {
   "codemirror_mode": {
    "name": "ipython",
    "version": 3
   },
   "file_extension": ".py",
   "mimetype": "text/x-python",
   "name": "python",
   "nbconvert_exporter": "python",
   "pygments_lexer": "ipython3",
   "version": "3.6.4"
  }
 },
 "nbformat": 4,
 "nbformat_minor": 4
}
